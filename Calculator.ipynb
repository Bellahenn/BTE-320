{
  "nbformat": 4,
  "nbformat_minor": 0,
  "metadata": {
    "colab": {
      "provenance": [],
      "authorship_tag": "ABX9TyOatD8HnzIkLdBmFqk8mbaw",
      "include_colab_link": true
    },
    "kernelspec": {
      "name": "python3",
      "display_name": "Python 3"
    },
    "language_info": {
      "name": "python"
    }
  },
  "cells": [
    {
      "cell_type": "markdown",
      "metadata": {
        "id": "view-in-github",
        "colab_type": "text"
      },
      "source": [
        "<a href=\"https://colab.research.google.com/github/Bellahenn/BTE-320/blob/main/Calculator.ipynb\" target=\"_parent\"><img src=\"https://colab.research.google.com/assets/colab-badge.svg\" alt=\"Open In Colab\"/></a>"
      ]
    },
    {
      "cell_type": "markdown",
      "source": [
        "Design a calculator:\n",
        "\n",
        "* The calculator once starts, cannot stop unless the user chooses to (hint: infinite loop)\n",
        "\n",
        "* Implement all numberical operators that we discussed (+, -, *, **, /, //, %)\n",
        "\n",
        "* The user has to provide the numbers and the desired operator from the keyboard; then, the calulator will display the result (use three separate calls to function input() for each one of the inputs)\n",
        "\n",
        "* Numbers: int or float, Operator: str\n",
        "\n",
        "* The calculator stops if the user enters the word \"break\" instread of an operator; it skips an interation if the user gives an operator that is not numerical (e.g., a boolean one)"
      ],
      "metadata": {
        "id": "bEM453iquXFJ"
      }
    },
    {
      "cell_type": "code",
      "execution_count": null,
      "metadata": {
        "id": "J8hLUAe9lVzb"
      },
      "outputs": [],
      "source": [
        "while True:\n",
        "  operator = input('Enter mathematical operator: ')\n",
        "\n",
        "\n",
        "  if operator == 'break':\n",
        "    break\n",
        "\n",
        "  num1 = float(input('Enter first number: '))\n",
        "  num2 = float(input('Enter second number: '))\n",
        "\n",
        "\n",
        "  if operator == \"+\":\n",
        "    print(f'{num1} + {num2} = {num1 + num2}')\n",
        "  elif operator == \"-\":\n",
        "    print(f'{num1} - {num2} = {num1 - num2}')\n",
        "  elif operator == \"*\":\n",
        "    print(f'{num1} * {num2} = {num1 * num2}')\n",
        "  elif operator == \"**\":\n",
        "    print(f'{num1} ** {num2} = {num1 ** num2}')\n",
        "  elif operator == \"/\":\n",
        "    print(f'{num1} / {num2} = {num1 / num2}')\n",
        "  elif operator == \"//\":\n",
        "    print(f'{num1} // {num2} = {num1 // num2}')\n",
        "  elif operator == \"%\":\n",
        "    print(f'{num1} modulo {num2} = {int(num1) % int(num2)}')\n",
        "  else:\n",
        "    print('Invalid operator: ', operator)\n",
        "    continue\n",
        "    2"
      ]
    }
  ]
}