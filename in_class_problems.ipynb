{
  "nbformat": 4,
  "nbformat_minor": 0,
  "metadata": {
    "colab": {
      "provenance": [],
      "authorship_tag": "ABX9TyOXHgVR8NFQd+D8NicaYaOv",
      "include_colab_link": true
    },
    "kernelspec": {
      "name": "python3",
      "display_name": "Python 3"
    },
    "language_info": {
      "name": "python"
    }
  },
  "cells": [
    {
      "cell_type": "markdown",
      "metadata": {
        "id": "view-in-github",
        "colab_type": "text"
      },
      "source": [
        "<a href=\"https://colab.research.google.com/github/Bellahenn/BTE-320/blob/main/in_class_problems.ipynb\" target=\"_parent\"><img src=\"https://colab.research.google.com/assets/colab-badge.svg\" alt=\"Open In Colab\"/></a>"
      ]
    },
    {
      "cell_type": "code",
      "source": [
        "# Calculator\n",
        "\n",
        "while True:\n",
        "  operator = input('Enter mathematical operator: ')\n",
        "\n",
        "\n",
        "  if operator == 'break':\n",
        "    break\n",
        "\n",
        "  num1 = float(input('Enter first number: '))\n",
        "  num2 = float(input('Enter second number: '))\n",
        "\n",
        "\n",
        "  if operator == \"+\":\n",
        "    print(f'{num1} + {num2} = {num1 + num2}')\n",
        "  elif operator == \"-\":\n",
        "    print(f'{num1} - {num2} = {num1 - num2}')\n",
        "  elif operator == \"*\":\n",
        "    print(f'{num1} * {num2} = {num1 * num2}')\n",
        "  elif operator == \"**\":\n",
        "    print(f'{num1} ** {num2} = {num1 ** num2}')\n",
        "  elif operator == \"/\":\n",
        "    print(f'{num1} / {num2} = {num1 / num2}')\n",
        "  elif operator == \"//\":\n",
        "    print(f'{num1} // {num2} = {num1 // num2}')\n",
        "  elif operator == \"%\":\n",
        "    print(f'{num1} modulo {num2} = {int(num1) % int(num2)}')\n",
        "  else:\n",
        "    print('Invalid operator: ', operator)\n",
        "    continue\n",
        "    2"
      ],
      "metadata": {
        "id": "Ez1Ld7ghg6T_"
      },
      "execution_count": null,
      "outputs": []
    },
    {
      "cell_type": "code",
      "source": [
        "# Populating a dictionary with two variables (variable 1: integers 1-12, variable 2: month names)\n",
        "\n",
        "months = {}\n",
        "\n",
        "numbers = [1,2,3,4,5,6,7,8,9,10,11,12]\n",
        "names = ['January', 'February', 'March', 'April', 'May', 'June', 'July', 'August', 'September', 'October', 'November', 'December']\n",
        "\n",
        "for i in range(len(numbers)):\n",
        "  months[numbers[i]] = names[i]\n",
        "\n",
        "print(months)"
      ],
      "metadata": {
        "id": "CKfLUYYChI5A"
      },
      "execution_count": null,
      "outputs": []
    },
    {
      "cell_type": "code",
      "source": [
        "# Date Program (given a date as a string input, extract the day, month, year)\n",
        "\n",
        "date = input(\"Enter the date (MM/DD/YYYY): \")\n",
        "month = date[0:2]\n",
        "day = date[3:5]\n",
        "year = date[6:10]\n",
        "\n",
        "print(month, day, year)"
      ],
      "metadata": {
        "id": "Rv_lCWoGhPyJ"
      },
      "execution_count": null,
      "outputs": []
    },
    {
      "cell_type": "code",
      "source": [
        "# Deposit with Interest Rates\n",
        "\n",
        "Name = input('Hi, please enter your name: ')\n",
        "Customer_type = input('Enter customer type (n: new, e: existing): ')\n",
        "Deposit = float(input(\"enter deposit amount: $\"))\n",
        "\n",
        "if Customer_type == 'n':\n",
        "  Interest = 0.03\n",
        "else:\n",
        "  if Deposit <= 1000:\n",
        "    Interest = float(0.03)\n",
        "  elif Deposit <= 10000:\n",
        "    Interest = float(0.0325)\n",
        "  elif Deposit > 10000:\n",
        "    Interest = float(0.035)\n",
        "\n",
        "Amount = (1 + Interest) * Deposit\n",
        "print(f'{Name}, you will have ${round(Amount,2)} in your account!')\n"
      ],
      "metadata": {
        "id": "3Tq3xizKhdKa"
      },
      "execution_count": null,
      "outputs": []
    },
    {
      "cell_type": "code",
      "source": [
        "# List Creator (populating a list using a while loop)\n",
        "\n",
        "List = []\n",
        "while True:\n",
        "  userinput = int(input('Enter an integer to apend to the list: '))\n",
        "  if userinput == 0:\n",
        "    break\n",
        "  List.append(userinput)\n",
        "  print(f'Here is your current list: {List}')\n",
        "\n",
        "print(f'Here is your list: {List}')"
      ],
      "metadata": {
        "id": "SRcNgoIchxtQ"
      },
      "execution_count": null,
      "outputs": []
    },
    {
      "cell_type": "code",
      "execution_count": null,
      "metadata": {
        "id": "_6OFIs07tn3m"
      },
      "outputs": [],
      "source": [
        "#Rock, Paper, Scissors\n",
        "\n",
        "user_choice = input(\"Select Rock, Paper, or Scissors\")\n",
        "\n",
        "import random\n",
        "computer_choice = random.choice([\"Rock\", \"Paper\", \"Scissors\"])\n",
        "\n",
        "print(f\"The computer chose {computer_choice}, you chose {user_choice}\")\n",
        "\n",
        "if user_choice == \"Rock\":\n",
        "  if computer_choice == \"Paper\":\n",
        "    print(\"Computer wins! You lose!\")\n",
        "  elif computer_choice == \"Scissors\":\n",
        "    print(\"You win!\")\n",
        "  elif computer_choice == \"Rock\":\n",
        "    print(\"It's a tie!\")\n",
        "\n",
        "\n",
        "if user_choice == \"Paper\":\n",
        "  if computer_choice == \"Rock\":\n",
        "    print(\"You win!\")\n",
        "  elif computer_choice == \"Scissors\":\n",
        "    print(\"Computer wins! You lose!\")\n",
        "  elif computer_choice == \"Paper\":\n",
        "    print(\"It's a tie!\")\n",
        "\n",
        "\n",
        "if user_choice == \"Scissors\":\n",
        "  if computer_choice == \"Paper\":\n",
        "    print(\"You win!\")\n",
        "  elif computer_choice == \"Rock\":\n",
        "    print(\"Computer wins! You lose!\")\n",
        "  elif computer_choice == \"Scissors\":\n",
        "    print(\"It's a tie!\")\n"
      ]
    },
    {
      "cell_type": "code",
      "source": [
        "# Leap Year calculation\n",
        "\n",
        "year = int(input(\"Enter a year: \"))\n",
        "\n",
        "if (year % 4 == 0 and year % 100 != 0) or (year % 400 == 0):\n",
        "    print(f\"{year} is a leap year!\")\n",
        "else:\n",
        "    print(f\"{year} is not a leap year.\")"
      ],
      "metadata": {
        "id": "VzxLFliA9P1K"
      },
      "execution_count": null,
      "outputs": []
    },
    {
      "cell_type": "code",
      "source": [
        "# Parking Garage Problem\n",
        "\n",
        "# A parking garage charges $5 plus $2.50 for each hour parked. The minimum fee is $10 and the maximum fee is $20.\n",
        "# Write a program that generates a table with hours parked and the corresponding fee, from 1 to 8 hours.\n",
        "\n",
        "for i in range(1, 9, 1):\n",
        "  fee = 5 + (2.5*i)\n",
        "  print(i, fee)"
      ],
      "metadata": {
        "id": "l7DlhuPZh2JW"
      },
      "execution_count": null,
      "outputs": []
    },
    {
      "cell_type": "code",
      "source": [
        "# Movie Theater Problem\n",
        "\n",
        "print(f'Ad$ Profit')\n",
        "\n",
        "init_attendees = 20\n",
        "fixed_cost= 200\n",
        "\n",
        "for advertising in range(0 ,201, 25):\n",
        "  ad = float(advertising)\n",
        "  attendees = float(2*round(advertising**0.5) + init_attendees)\n",
        "  profit = float((attendees * 10) - advertising - fixed_cost)\n",
        "  print(f'{ad} ${profit}')"
      ],
      "metadata": {
        "id": "hUlgdygZiHzR"
      },
      "execution_count": null,
      "outputs": []
    },
    {
      "cell_type": "code",
      "source": [
        "# An example with properties and methods: Mortgage\n",
        "  # Example: fixed rate monthly mortgage\n",
        "  # Properties\n",
        "    # Initial loan amount ($)\n",
        "    # Term to maturity (years)\n",
        "    # Fixed annual interest rate (%)\n",
        "  # Specific example: $100,000, 30 year, 6%\n",
        "  # Calculation: how much is the monthly payment?\n",
        "    # Initial amount B, term n (in months), interest rate r (in decimal)\n",
        "    # M = B[r91+r)^n]/[1+r)^n - 1]\n",
        "\n",
        "\n",
        "class Mortgage:\n",
        "  def __init__(self, initLoanAmount, maturity, interest):\n",
        "    self.initLoanAmount = initLoanAmount\n",
        "    self.maturity = maturity\n",
        "    self.interest = interest\n",
        "\n",
        "  def __str__(self):\n",
        "    return f'Mortgage info:\\n Initial loan amount: {self.initLoanAmount} $\\n Maturity term: {self.maturity} years\\n Interest rate: {self.interest} %'\n",
        "\n",
        "  def get_interest(self):\n",
        "    return self.interest\n",
        "\n",
        "  def set_interest(self, newInterest):\n",
        "    if newInterest >= 0:\n",
        "      self.interest = newInterest\n",
        "    else:\n",
        "      print('Please enter a non-negative interest value!')\n",
        "\n",
        "  def payment(self):\n",
        "    B = self.initLoanAmount\n",
        "    n = self.maturity * 12\n",
        "    r = self.interest / 100\n",
        "\n",
        "    return B * (r * (1+r) ** n) / ((1+r) ** n - 1)\n",
        "\n",
        "\n",
        "m = Mortgage(100000, 30, 6)\n",
        "\n",
        "m.payment()"
      ],
      "metadata": {
        "id": "wMLcksXtPZ2f"
      },
      "execution_count": null,
      "outputs": []
    },
    {
      "cell_type": "code",
      "source": [
        "print(m)"
      ],
      "metadata": {
        "id": "v3o8e2lJPu3f"
      },
      "execution_count": null,
      "outputs": []
    },
    {
      "cell_type": "code",
      "source": [
        "# Calculating distance\n",
        "\n",
        "class Point:\n",
        "  def __init__(self, x, y):\n",
        "    self.x = x\n",
        "    self.y = y\n",
        "\n",
        "  def distance(self, other):\n",
        "    x_diff = (self.x - other.x) ** 2\n",
        "    y_diff = (self.y - other.y) ** 2\n",
        "    return (x_diff + y_diff) ** 0.5\n",
        "\n",
        "class Point3D(Point):\n",
        "  def __init__(self, x, y, z):\n",
        "    super().__init__(x, y)\n",
        "    self.z = z\n",
        "\n",
        "\n",
        "p1 = Point(3,4)\n",
        "p2 = Point(6,8)\n",
        "print(p1.distance(p2))"
      ],
      "metadata": {
        "id": "_fYdv0xtFyn5"
      },
      "execution_count": null,
      "outputs": []
    }
  ]
}