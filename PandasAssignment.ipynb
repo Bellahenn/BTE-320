{
  "cells": [
    {
      "cell_type": "markdown",
      "metadata": {
        "id": "view-in-github",
        "colab_type": "text"
      },
      "source": [
        "<a href=\"https://colab.research.google.com/github/Bellahenn/BTE-320/blob/main/PandasAssignment.ipynb\" target=\"_parent\"><img src=\"https://colab.research.google.com/assets/colab-badge.svg\" alt=\"Open In Colab\"/></a>"
      ]
    },
    {
      "cell_type": "markdown",
      "id": "64d7f59f-248f-4fc8-9597-e1f3b35a9b98",
      "metadata": {
        "id": "64d7f59f-248f-4fc8-9597-e1f3b35a9b98"
      },
      "source": [
        "## Data Analysis assignment (20 points)\n",
        "\n",
        "You have been given the dataset `travel-times` in a CSV format. This dataset comes from a driver that uses an app to track GPS coordinates as he drives to work and back each day. The app collects the location and elevation data. In total, data for about 200 trips are summarized in this data set.\n",
        "\n",
        "Load the `travel-times` in a `df` variable using `pandas` and then perform the following:\n",
        "- print the shape of the dataset **(1 points)**\n",
        "- print the first 15 rows of the dataset **(1 points)**\n",
        "- get information for the features (columns) with missing values **(1 points)**\n",
        "- drop duplicate values (if any) by keeping only the last instance **(1 points)**\n",
        "- calculate the total number of missing values (if any) on each column **(2 points)**\n",
        "- create two copies of the dataframe, and then:\n",
        "    - drop rows with missing values from the 1st copy **(1 points)**\n",
        "    - drop columns with missing values from the 2nd copy **(1 points)**\n",
        "- get summary statistics and see the correlation between the numerical columns **(1 points)**\n",
        "- show rows 11 to 14 **(1 points)**\n",
        "- create a subset with trips occurred on November 23, 2011 and January 6, 2012 **(2 points)**\n",
        "- produce a scatterplot between `Distance` and `TotalTime` **(1 points)**\n",
        "    * Use:\n",
        "```python\n",
        "import matplotlib.pyplot as plt\n",
        "plt.rcParams.update({'font.size': 20, 'figure.figsize': (10, 8)})\n",
        "```\n",
        "- produce boxplots for `AvgSpeed` and `AvgMovingSpeed` (use different cells for each) **(2 points)**"
      ]
    },
    {
      "cell_type": "code",
      "execution_count": 3,
      "id": "3a276345-b8ef-419f-b55a-660d02d6279c",
      "metadata": {
        "id": "3a276345-b8ef-419f-b55a-660d02d6279c"
      },
      "outputs": [],
      "source": [
        "import matplotlib.pyplot as plt\n",
        "import pandas as pd\n",
        "\n",
        "plt.rcParams.update({'font.size': 20, 'figure.figsize': (10, 8)})"
      ]
    },
    {
      "cell_type": "code",
      "source": [
        "df = pd.read_csv(\"travel-times.csv\")"
      ],
      "metadata": {
        "id": "mIPYR_aRcMEu"
      },
      "id": "mIPYR_aRcMEu",
      "execution_count": 4,
      "outputs": []
    },
    {
      "cell_type": "code",
      "source": [
        "# print the shape of the dataset\n",
        "\n",
        "df.shape"
      ],
      "metadata": {
        "id": "XLu7MbqgvfDj"
      },
      "id": "XLu7MbqgvfDj",
      "execution_count": null,
      "outputs": []
    },
    {
      "cell_type": "code",
      "source": [
        "# print the first 15 rows of the dataset\n",
        "\n",
        "df.head(15)"
      ],
      "metadata": {
        "id": "R1jzBeRGvifm"
      },
      "id": "R1jzBeRGvifm",
      "execution_count": null,
      "outputs": []
    },
    {
      "cell_type": "code",
      "source": [
        "# get information for the features (columns) with missing values\n",
        "\n",
        "df.isnull().info()"
      ],
      "metadata": {
        "id": "axM5JFtevqLg"
      },
      "id": "axM5JFtevqLg",
      "execution_count": null,
      "outputs": []
    },
    {
      "cell_type": "code",
      "source": [
        "# drop duplicate values (if any) by keeping only the last instance\n",
        "\n",
        "df.drop_duplicates(inplace=True)"
      ],
      "metadata": {
        "id": "0m9VWYgyvtBD"
      },
      "id": "0m9VWYgyvtBD",
      "execution_count": 8,
      "outputs": []
    },
    {
      "cell_type": "code",
      "source": [
        "# calculate the total number of missing values (if any) on each column\n",
        "\n",
        "df.isnull().sum()"
      ],
      "metadata": {
        "id": "wWE5Vby0vvqS"
      },
      "id": "wWE5Vby0vvqS",
      "execution_count": null,
      "outputs": []
    },
    {
      "cell_type": "code",
      "source": [
        "# create two copies of the dataframe, and then:\n",
        "    # drop rows with missing values from the 1st copy\n",
        "    # drop columns with missing values from the 2nd copy\n",
        "\n",
        "df1 = df.copy()\n",
        "df2 = df.copy()"
      ],
      "metadata": {
        "id": "ALHG4Aq4wCpq"
      },
      "id": "ALHG4Aq4wCpq",
      "execution_count": 10,
      "outputs": []
    },
    {
      "cell_type": "code",
      "source": [
        "df1.dropna(inplace=True)\n",
        "df1.shape"
      ],
      "metadata": {
        "id": "WAJz8qCFzEOJ"
      },
      "id": "WAJz8qCFzEOJ",
      "execution_count": null,
      "outputs": []
    },
    {
      "cell_type": "code",
      "source": [
        "df2.dropna(axis=1, inplace=True)\n",
        "df2.shape"
      ],
      "metadata": {
        "id": "7FwowHYMyh7F"
      },
      "id": "7FwowHYMyh7F",
      "execution_count": null,
      "outputs": []
    },
    {
      "cell_type": "code",
      "source": [
        "df2.describe"
      ],
      "metadata": {
        "id": "GuWYYcqgywVx"
      },
      "id": "GuWYYcqgywVx",
      "execution_count": null,
      "outputs": []
    },
    {
      "cell_type": "code",
      "source": [
        "# get summary statistics and see the correlation between the numerical columns\n",
        "\n",
        "df.select_dtypes(exclude='object').corr()"
      ],
      "metadata": {
        "id": "R9OnoUQHwMF0"
      },
      "id": "R9OnoUQHwMF0",
      "execution_count": null,
      "outputs": []
    },
    {
      "cell_type": "code",
      "source": [
        "# show rows 11 to 14\n",
        "\n",
        "df.iloc[10:14]"
      ],
      "metadata": {
        "id": "t6nBj4UYwOiU"
      },
      "id": "t6nBj4UYwOiU",
      "execution_count": null,
      "outputs": []
    },
    {
      "cell_type": "code",
      "source": [
        "# create a subset with trips occurred on November 23, 2011\n",
        "\n",
        "df[df['Date']=='11/23/2011']"
      ],
      "metadata": {
        "id": "V1r-lUdCwRGq"
      },
      "id": "V1r-lUdCwRGq",
      "execution_count": null,
      "outputs": []
    },
    {
      "cell_type": "code",
      "source": [
        "# create a subset with trips occurred on January 6, 2012\n",
        "\n",
        "df[df['Date']=='01/06/2012']"
      ],
      "metadata": {
        "id": "XfHm3mQVyMca"
      },
      "id": "XfHm3mQVyMca",
      "execution_count": null,
      "outputs": []
    },
    {
      "cell_type": "code",
      "source": [
        "# produce a scatterplot between Distance and TotalTime\n",
        "\n",
        "import matplotlib.pyplot as plt\n",
        "plt.rcParams.update({'font.size': 20, 'figure.figsize': (10, 8)})\n",
        "\n",
        "df.plot(kind = 'scatter', x = 'Distance', y='TotalTime')"
      ],
      "metadata": {
        "id": "FWHwqQ9zva0d"
      },
      "id": "FWHwqQ9zva0d",
      "execution_count": null,
      "outputs": []
    },
    {
      "cell_type": "code",
      "source": [
        "# produce boxplots for AvgSpeed\n",
        "\n",
        "df['AvgSpeed'].plot(kind='box')"
      ],
      "metadata": {
        "id": "YxKlEHYmvxS_"
      },
      "id": "YxKlEHYmvxS_",
      "execution_count": null,
      "outputs": []
    },
    {
      "cell_type": "code",
      "source": [
        "# produce boxplots for AvgMovingSpeed\n",
        "\n",
        "df['AvgMovingSpeed'].plot(kind='box')"
      ],
      "metadata": {
        "id": "m1VPaMdowcXe"
      },
      "id": "m1VPaMdowcXe",
      "execution_count": null,
      "outputs": []
    }
  ],
  "metadata": {
    "kernelspec": {
      "display_name": "Python 3 (ipykernel)",
      "language": "python",
      "name": "python3"
    },
    "language_info": {
      "codemirror_mode": {
        "name": "ipython",
        "version": 3
      },
      "file_extension": ".py",
      "mimetype": "text/x-python",
      "name": "python",
      "nbconvert_exporter": "python",
      "pygments_lexer": "ipython3",
      "version": "3.8.2"
    },
    "colab": {
      "provenance": [],
      "include_colab_link": true
    }
  },
  "nbformat": 4,
  "nbformat_minor": 5
}