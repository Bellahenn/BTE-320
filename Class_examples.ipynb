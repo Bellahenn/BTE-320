{
  "nbformat": 4,
  "nbformat_minor": 0,
  "metadata": {
    "colab": {
      "provenance": [],
      "authorship_tag": "ABX9TyNpjpCBPuRRfuMJ18xHGLm8",
      "include_colab_link": true
    },
    "kernelspec": {
      "name": "python3",
      "display_name": "Python 3"
    },
    "language_info": {
      "name": "python"
    }
  },
  "cells": [
    {
      "cell_type": "markdown",
      "metadata": {
        "id": "view-in-github",
        "colab_type": "text"
      },
      "source": [
        "<a href=\"https://colab.research.google.com/github/Bellahenn/BTE-320/blob/main/Class_examples.ipynb\" target=\"_parent\"><img src=\"https://colab.research.google.com/assets/colab-badge.svg\" alt=\"Open In Colab\"/></a>"
      ]
    },
    {
      "cell_type": "code",
      "execution_count": null,
      "metadata": {
        "id": "_6OFIs07tn3m"
      },
      "outputs": [],
      "source": [
        "#Rock, Paper, Scissors game\n",
        "\n",
        "user_choice = input(\"Select Rock, Paper, or Scissors\")\n",
        "\n",
        "import random\n",
        "computer_choice = random.choice([\"Rock\", \"Paper\", \"Scissors\"])\n",
        "\n",
        "print(f\"The computer chose {computer_choice}, you chose {user_choice}\")\n",
        "\n",
        "if user_choice == \"Rock\":\n",
        "  if computer_choice == \"Paper\":\n",
        "    print(\"Computer wins! You lose!\")\n",
        "  elif computer_choice == \"Scissors\":\n",
        "    print(\"You win!\")\n",
        "  elif computer_choice == \"Rock\":\n",
        "    print(\"It's a tie!\")\n",
        "\n",
        "\n",
        "if user_choice == \"Paper\":\n",
        "  if computer_choice == \"Rock\":\n",
        "    print(\"You win!\")\n",
        "  elif computer_choice == \"Scissors\":\n",
        "    print(\"Computer wins! You lose!\")\n",
        "  elif computer_choice == \"Paper\":\n",
        "    print(\"It's a tie!\")\n",
        "\n",
        "\n",
        "if user_choice == \"Scissors\":\n",
        "  if computer_choice == \"Paper\":\n",
        "    print(\"You win!\")\n",
        "  elif computer_choice == \"Rock\":\n",
        "    print(\"Computer wins! You lose!\")\n",
        "  elif computer_choice == \"Scissors\":\n",
        "    print(\"It's a tie!\")\n"
      ]
    },
    {
      "cell_type": "code",
      "source": [
        "# Is it a leap year?\n",
        "\n",
        "year = int(input(\"Enter a year: \"))\n",
        "\n",
        "if (year % 4 == 0 and year % 100 != 0) or (year % 400 == 0):\n",
        "    print(f\"{year} is a leap year!\")\n",
        "else:\n",
        "    print(f\"{year} is not a leap year.\")"
      ],
      "metadata": {
        "id": "VzxLFliA9P1K"
      },
      "execution_count": null,
      "outputs": []
    },
    {
      "cell_type": "code",
      "source": [
        "# Installing a package\n",
        "\n",
        "!pip install ColabTurtlePlus"
      ],
      "metadata": {
        "id": "ZliEnM-ed1cg"
      },
      "execution_count": null,
      "outputs": []
    },
    {
      "cell_type": "code",
      "source": [
        "from ColabTurtlePlus.Turtle import *\n",
        "\n",
        "clearscreen()\n",
        "\n",
        "color('black', 'green')\n",
        "\n",
        "begin_fill()\n",
        "\n",
        "for i in range(4):\n",
        "  forward(100)\n",
        "  left(90)\n",
        "\n",
        "end_fill()"
      ],
      "metadata": {
        "id": "mAnzfO0leJWJ"
      },
      "execution_count": null,
      "outputs": []
    },
    {
      "cell_type": "code",
      "source": [
        "for i in range(1, 13, 1):\n",
        "  print(i)"
      ],
      "metadata": {
        "id": "pyP60vE9nmcg"
      },
      "execution_count": null,
      "outputs": []
    },
    {
      "cell_type": "code",
      "source": [
        "# A parking garage charges $5 plus $2.50 for each hour parked. The minimum fee is $10 and the maximum fee is $20.\n",
        "# Write a program that generates a table with hours parked and the corresponding fee, from 1 to 8 hours.\n",
        "\n",
        "for i in range(1, 9, 1):\n",
        "  fee = 5 + (2.5*i)\n",
        "  print(i, fee)"
      ],
      "metadata": {
        "id": "0IAhd1p9rQjR"
      },
      "execution_count": null,
      "outputs": []
    }
  ]
}